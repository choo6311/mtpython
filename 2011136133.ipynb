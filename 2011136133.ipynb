{
 "metadata": {
  "name": "",
  "signature": "sha256:178e3f8c21b63ee5d4c460bcae22abefa2b06f5f1425815fab08cd9258f96bea"
 },
 "nbformat": 3,
 "nbformat_minor": 0,
 "worksheets": [
  {
   "cells": [
    {
     "cell_type": "code",
     "collapsed": false,
     "input": [
      "a=\"Hello Wolrd\""
     ],
     "language": "python",
     "metadata": {},
     "outputs": [],
     "prompt_number": 1
    },
    {
     "cell_type": "markdown",
     "metadata": {},
     "source": [
      "a\uc5d0 Hello Wolrd\ub77c\ub294 \ubb38\uc790\uc5f4\uc744 \uc785\ub825"
     ]
    },
    {
     "cell_type": "code",
     "collapsed": false,
     "input": [
      "a"
     ],
     "language": "python",
     "metadata": {},
     "outputs": [
      {
       "metadata": {},
       "output_type": "pyout",
       "prompt_number": 2,
       "text": [
        "'Hello Wolrd'"
       ]
      }
     ],
     "prompt_number": 2
    },
    {
     "cell_type": "code",
     "collapsed": false,
     "input": [
      "a = a[6:13] + a[5] + a[0:5]"
     ],
     "language": "python",
     "metadata": {},
     "outputs": [],
     "prompt_number": 3
    },
    {
     "cell_type": "code",
     "collapsed": false,
     "input": [
      "a"
     ],
     "language": "python",
     "metadata": {},
     "outputs": [
      {
       "metadata": {},
       "output_type": "pyout",
       "prompt_number": 4,
       "text": [
        "'Wolrd Hello'"
       ]
      }
     ],
     "prompt_number": 4
    },
    {
     "cell_type": "markdown",
     "metadata": {},
     "source": [
      "0\ubd80\ud130 \uc2dc\uc791\ud574 13\uae4c\uc9c0\uc758 \uc778\ub371\uc2f1\uc778 \ubb38\uc790\uc5f4\uc744 6\ubd80\ud130 13\uae4c\uc9c0 \uc785\ub825\ud558\uace0 5\ubc88 \uc790\ub9ac\uc758 \ub744\uc5b4\uc4f0\uae30\ub97c \uc785\ub825\ud558\uace0 0\ubc88 \ubd80\ud130 5\ubc88\uae4c\uc9c0\ub97c \uc785\ub825"
     ]
    },
    {
     "cell_type": "code",
     "collapsed": false,
     "input": [
      "b = \"Hello Python World\""
     ],
     "language": "python",
     "metadata": {},
     "outputs": [],
     "prompt_number": 5
    },
    {
     "cell_type": "markdown",
     "metadata": {},
     "source": [
      "b\uc5d0 Hello Python World\ub77c\ub294 \ubb38\uc790\uc5f4\uc744 \uc785\ub825"
     ]
    },
    {
     "cell_type": "code",
     "collapsed": false,
     "input": [
      "b"
     ],
     "language": "python",
     "metadata": {},
     "outputs": [
      {
       "metadata": {},
       "output_type": "pyout",
       "prompt_number": 6,
       "text": [
        "'Hello Python World'"
       ]
      }
     ],
     "prompt_number": 6
    },
    {
     "cell_type": "code",
     "collapsed": false,
     "input": [
      "b = b[13:] + b[5] + b[6:13] + b[0:5]"
     ],
     "language": "python",
     "metadata": {},
     "outputs": [],
     "prompt_number": 7
    },
    {
     "cell_type": "code",
     "collapsed": false,
     "input": [
      "b"
     ],
     "language": "python",
     "metadata": {},
     "outputs": [
      {
       "metadata": {},
       "output_type": "pyout",
       "prompt_number": 8,
       "text": [
        "'World Python Hello'"
       ]
      }
     ],
     "prompt_number": 8
    },
    {
     "cell_type": "markdown",
     "metadata": {},
     "source": [
      "13\ubc88 \uc778\ub371\uc2a4\ubd80\ud130\uc758 Wolrd\ub97c \uc785\ub825\ud558\uace0 5\ubc88 \uc778\ub371\uc2a4\uc758 \ub744\uc5b4\uc4f0\uae30\ub97c \uc785\ub825\ud558\uace0 6\ubc88 \uc778\ub371\uc2a4\ubd80\ud130 13\ubc88 \uc778\ub371\uc2a4\uc758 Python\uc744 \uc785\ub825\ud558\uace0\n",
      "0\ubc88 \uc778\ub371\uc2a4\ubd80\ud130 5\ubc88 \uc778\ub371\uc2a4\uc758 Hello\ub97c \uc785\ub825"
     ]
    },
    {
     "cell_type": "code",
     "collapsed": false,
     "input": [
      "c = \"Hello\""
     ],
     "language": "python",
     "metadata": {},
     "outputs": [],
     "prompt_number": 9
    },
    {
     "cell_type": "markdown",
     "metadata": {},
     "source": [
      "c\uc5d0 Hello\ub77c\ub294 \ubb38\uc790\uc5f4\uc744 \uc785\ub825"
     ]
    },
    {
     "cell_type": "code",
     "collapsed": false,
     "input": [
      "c = c[1:] + c[0]"
     ],
     "language": "python",
     "metadata": {},
     "outputs": [],
     "prompt_number": 10
    },
    {
     "cell_type": "code",
     "collapsed": false,
     "input": [
      "c"
     ],
     "language": "python",
     "metadata": {},
     "outputs": [
      {
       "metadata": {},
       "output_type": "pyout",
       "prompt_number": 11,
       "text": [
        "'elloH'"
       ]
      }
     ],
     "prompt_number": 11
    },
    {
     "cell_type": "markdown",
     "metadata": {},
     "source": [
      "1\ubc88 \uc778\ub371\uc2a4\ubd80\ud130 \ub05d\uae4c\uc9c0 \uc785\ub825\ud574 \uc8fc\uace0 0\ubc88 \uc778\ub371\uc2a4\uc758 H\ub97c \uc785\ub825"
     ]
    },
    {
     "cell_type": "code",
     "collapsed": false,
     "input": [
      "s=\"python\""
     ],
     "language": "python",
     "metadata": {},
     "outputs": [],
     "prompt_number": 12
    },
    {
     "cell_type": "code",
     "collapsed": false,
     "input": [
      "s[0]"
     ],
     "language": "python",
     "metadata": {},
     "outputs": [
      {
       "metadata": {},
       "output_type": "pyout",
       "prompt_number": 13,
       "text": [
        "'p'"
       ]
      }
     ],
     "prompt_number": 13
    },
    {
     "cell_type": "markdown",
     "metadata": {},
     "source": [
      "0\ubc88 \uc778\ub371\uc2a4\uac12\uc778 p\ub97c \ucd9c\ub825"
     ]
    },
    {
     "cell_type": "code",
     "collapsed": false,
     "input": [
      "s[0][0]"
     ],
     "language": "python",
     "metadata": {},
     "outputs": [
      {
       "metadata": {},
       "output_type": "pyout",
       "prompt_number": 14,
       "text": [
        "'p'"
       ]
      }
     ],
     "prompt_number": 14
    },
    {
     "cell_type": "markdown",
     "metadata": {},
     "source": [
      "\ub2e4\ucc28\uc6d0 \uc774\ub77c\ud574\ub3c4 0\ubc88\uc758 \uc778\ub371\uc2a4\ub294 p\uc774\uae30 \ub54c\ubb38\uc5d0 p\uac00 \ucd9c\ub825\ub41c\ub2e4.\n",
      "s[0][1]\uc744 \uc2e4\ud589\ud574 \ubd24\ub294\ub370 \uc774\uac83\uc740 \uc778\ub371\uc2a4 \ubc94\uc704 \ucd08\uacfc\ub85c \uc5d0\ub7ec\uac00 \ub09c\ub2e4."
     ]
    },
    {
     "cell_type": "code",
     "collapsed": false,
     "input": [
      "s[0][0][0]"
     ],
     "language": "python",
     "metadata": {},
     "outputs": [
      {
       "metadata": {},
       "output_type": "pyout",
       "prompt_number": 15,
       "text": [
        "'p'"
       ]
      }
     ],
     "prompt_number": 15
    },
    {
     "cell_type": "markdown",
     "metadata": {},
     "source": [
      "\uc704\uc640 \uac19\uc740 \uc774\uc720\ub2e4."
     ]
    },
    {
     "cell_type": "code",
     "collapsed": false,
     "input": [
      "s[-100]"
     ],
     "language": "python",
     "metadata": {},
     "outputs": [
      {
       "ename": "IndexError",
       "evalue": "string index out of range",
       "output_type": "pyerr",
       "traceback": [
        "\u001b[1;31m---------------------------------------------------------------------------\u001b[0m\n\u001b[1;31mIndexError\u001b[0m                                Traceback (most recent call last)",
        "\u001b[1;32m<ipython-input-16-c9bfa1a0d327>\u001b[0m in \u001b[0;36m<module>\u001b[1;34m()\u001b[0m\n\u001b[1;32m----> 1\u001b[1;33m \u001b[0ms\u001b[0m\u001b[1;33m[\u001b[0m\u001b[1;33m-\u001b[0m\u001b[1;36m100\u001b[0m\u001b[1;33m]\u001b[0m\u001b[1;33m\u001b[0m\u001b[0m\n\u001b[0m",
        "\u001b[1;31mIndexError\u001b[0m: string index out of range"
       ]
      }
     ],
     "prompt_number": 16
    },
    {
     "cell_type": "code",
     "collapsed": false,
     "input": [
      "s[100]"
     ],
     "language": "python",
     "metadata": {},
     "outputs": [
      {
       "ename": "IndexError",
       "evalue": "string index out of range",
       "output_type": "pyerr",
       "traceback": [
        "\u001b[1;31m---------------------------------------------------------------------------\u001b[0m\n\u001b[1;31mIndexError\u001b[0m                                Traceback (most recent call last)",
        "\u001b[1;32m<ipython-input-17-4868bd16d438>\u001b[0m in \u001b[0;36m<module>\u001b[1;34m()\u001b[0m\n\u001b[1;32m----> 1\u001b[1;33m \u001b[0ms\u001b[0m\u001b[1;33m[\u001b[0m\u001b[1;36m100\u001b[0m\u001b[1;33m]\u001b[0m\u001b[1;33m\u001b[0m\u001b[0m\n\u001b[0m",
        "\u001b[1;31mIndexError\u001b[0m: string index out of range"
       ]
      }
     ],
     "prompt_number": 17
    },
    {
     "cell_type": "markdown",
     "metadata": {},
     "source": [
      "\uc9c0\uc815\ub41c \uc778\ub371\uc2a4 \ubc94\uc704\ub97c \ucd08\uacfc\ud588\uae30 \ub54c\ubb38\uc5d0 \uc5d0\ub7ec\uac00 \ub09c\ub2e4."
     ]
    },
    {
     "cell_type": "code",
     "collapsed": false,
     "input": [
      "s[-100, 100]"
     ],
     "language": "python",
     "metadata": {},
     "outputs": [
      {
       "ename": "TypeError",
       "evalue": "string indices must be integers, not tuple",
       "output_type": "pyerr",
       "traceback": [
        "\u001b[1;31m---------------------------------------------------------------------------\u001b[0m\n\u001b[1;31mTypeError\u001b[0m                                 Traceback (most recent call last)",
        "\u001b[1;32m<ipython-input-18-9bdc5545397f>\u001b[0m in \u001b[0;36m<module>\u001b[1;34m()\u001b[0m\n\u001b[1;32m----> 1\u001b[1;33m \u001b[0ms\u001b[0m\u001b[1;33m[\u001b[0m\u001b[1;33m-\u001b[0m\u001b[1;36m100\u001b[0m\u001b[1;33m,\u001b[0m \u001b[1;36m100\u001b[0m\u001b[1;33m]\u001b[0m\u001b[1;33m\u001b[0m\u001b[0m\n\u001b[0m",
        "\u001b[1;31mTypeError\u001b[0m: string indices must be integers, not tuple"
       ]
      }
     ],
     "prompt_number": 18
    },
    {
     "cell_type": "markdown",
     "metadata": {},
     "source": [
      "\ubb38\uc790\uc5f4 \uc778\ub371\uc2a4\ub294 \uc815\uc218\uc774\uc5ec\uc57c\ud558\ub294\ub370 ,\uac00 \uc788\uc5b4\uc11c \uc2e4\ud589\uc774 \uc548\ub429\ub2c8\ub2e4."
     ]
    },
    {
     "cell_type": "code",
     "collapsed": false,
     "input": [
      "s[1:-1]"
     ],
     "language": "python",
     "metadata": {},
     "outputs": [
      {
       "metadata": {},
       "output_type": "pyout",
       "prompt_number": 19,
       "text": [
        "'ytho'"
       ]
      }
     ],
     "prompt_number": 19
    },
    {
     "cell_type": "markdown",
     "metadata": {},
     "source": [
      "1\ubc88 \uc778\ub371\uc2a4\ubd80\ud130 -1\ubc88 \uc778\ub371\uc2a4\uae4c\uc9c0 \ucd9c\ub825\ud569\ub2c8\ub2e4. -\ubc88\ud638\ub294 \ub05d\uc5d0\ubd80\ud130 \ub4a4\ub85c \uc2dc\uc791\ub429\ub2c8\ub2e4."
     ]
    },
    {
     "cell_type": "code",
     "collapsed": false,
     "input": [
      "s[3:-3]"
     ],
     "language": "python",
     "metadata": {},
     "outputs": [
      {
       "metadata": {},
       "output_type": "pyout",
       "prompt_number": 20,
       "text": [
        "''"
       ]
      }
     ],
     "prompt_number": 20
    },
    {
     "cell_type": "markdown",
     "metadata": {},
     "source": [
      "\uc778\ub371\uc2a4\uac12\uc758 \uc704\uce58\uac00 \uac19\uae30 \ub54c\ubb38\uc5d0 \ucd9c\ub825\ub418\ub294\uac8c \uc5c6\uc2b5\ub2c8\ub2e4."
     ]
    },
    {
     "cell_type": "code",
     "collapsed": false,
     "input": [
      "for x in range(1,101):\n",
      "    if x%2==1:\n",
      "        print x"
     ],
     "language": "python",
     "metadata": {},
     "outputs": [
      {
       "output_type": "stream",
       "stream": "stdout",
       "text": [
        "1\n",
        "3\n",
        "5\n",
        "7\n",
        "9\n",
        "11\n",
        "13\n",
        "15\n",
        "17\n",
        "19\n",
        "21\n",
        "23\n",
        "25\n",
        "27\n",
        "29\n",
        "31\n",
        "33\n",
        "35\n",
        "37\n",
        "39\n",
        "41\n",
        "43\n",
        "45\n",
        "47\n",
        "49\n",
        "51\n",
        "53\n",
        "55\n",
        "57\n",
        "59\n",
        "61\n",
        "63\n",
        "65\n",
        "67\n",
        "69\n",
        "71\n",
        "73\n",
        "75\n",
        "77\n",
        "79\n",
        "81\n",
        "83\n",
        "85\n",
        "87\n",
        "89\n",
        "91\n",
        "93\n",
        "95\n",
        "97\n",
        "99\n"
       ]
      }
     ],
     "prompt_number": 21
    },
    {
     "cell_type": "markdown",
     "metadata": {},
     "source": [
      "1\ubd80\ud130 100\uae4c\uc9c0\uc758 \ubc94\uc704\ub97c \uc9c0\uc815\ud574\uc8fc\uace0 \ubc18\ubcf5\ud574 x\ub97c 2\ub85c \ub098\ub208 \uac12\uc774 1\uc774\uba74 \ucd9c\ub825\ub418\uac8c \ud558\uc5ec \ud640\uc218\ub97c \ucc3e\uc2b5\ub2c8\ub2e4."
     ]
    },
    {
     "cell_type": "code",
     "collapsed": false,
     "input": [
      "sum=0"
     ],
     "language": "python",
     "metadata": {},
     "outputs": [],
     "prompt_number": 22
    },
    {
     "cell_type": "code",
     "collapsed": false,
     "input": [
      "n=0"
     ],
     "language": "python",
     "metadata": {},
     "outputs": [],
     "prompt_number": 23
    },
    {
     "cell_type": "markdown",
     "metadata": {},
     "source": [
      "\ud569\uacfc \uc218\ub97c 0\uc73c\ub85c \ucd08\uae30\ud654\ud569\ub2c8\ub2e4."
     ]
    },
    {
     "cell_type": "code",
     "collapsed": false,
     "input": [
      "while n<100:\n",
      "    n=n+1\n",
      "    if n%2==0:\n",
      "        sum = sum+n"
     ],
     "language": "python",
     "metadata": {},
     "outputs": [],
     "prompt_number": 24
    },
    {
     "cell_type": "code",
     "collapsed": false,
     "input": [
      "print sum"
     ],
     "language": "python",
     "metadata": {},
     "outputs": [
      {
       "output_type": "stream",
       "stream": "stdout",
       "text": [
        "2550\n"
       ]
      }
     ],
     "prompt_number": 25
    },
    {
     "cell_type": "markdown",
     "metadata": {},
     "source": [
      "100\uae4c\uc9c0\uc758 \ubc94\uc704\ub97c \uc9c0\uc815\ud574\uc8fc\uace0 n\uc744 1\uc529 \ub354\ud574 n\uc5d0 \uc785\ub825\ud574 \uc90c\uc73c\ub85c\uc368 n\uc744 1\uc529 \uc99d\uac00\uc2dc\ud0a4\uace0 \n",
      "if\ubb38\uc744 \ud1b5\ud574 n\uc744 2\ub85c \ub098\ub208 \uac12\uc774 0\uc774\uba74 sum\uc5d0 sum+n\uc744 \ud574\uc918\uc11c \uc9dd\uc218\uc758 \ud569\uc744 \uacc4\uc18d \uc313\uc544\uc785\ub825\ud569\ub2c8\ub2e4.\n",
      "\uadf8\ud6c4 sum\uc744 \ucd9c\ub825\ud558\uba74 \uc9dd\uc218\uc758 \ud569\uc774 \ub098\uc635\ub2c8\ub2e4."
     ]
    },
    {
     "cell_type": "code",
     "collapsed": false,
     "input": [
      "def pnum(n):\n",
      "    x=0\n",
      "    y=0\n",
      "    for x in range(1,n+1):\n",
      "        num=0\n",
      "        for y in range(1,x+1):\n",
      "            if x%y==0:\n",
      "                num=num+1\n",
      "        if num==2:\n",
      "            print x"
     ],
     "language": "python",
     "metadata": {},
     "outputs": [],
     "prompt_number": 34
    },
    {
     "cell_type": "code",
     "collapsed": false,
     "input": [
      "pnum(30)"
     ],
     "language": "python",
     "metadata": {},
     "outputs": [
      {
       "output_type": "stream",
       "stream": "stdout",
       "text": [
        "2\n",
        "3\n",
        "5\n",
        "7\n",
        "11\n",
        "13\n",
        "17\n",
        "19\n",
        "23\n",
        "29\n"
       ]
      }
     ],
     "prompt_number": 35
    },
    {
     "cell_type": "markdown",
     "metadata": {},
     "source": [
      "\uc815\uc758 \ubb38\uc744 \ud1b5\ud574 pnum\ud568\uc218\ub97c \uc9c0\uc815\ud558\uace0 x\uc640 y\uac12\uc744 0\uc73c\ub85c \ucd08\uae30\ud654 \ud558\uc5ec\n",
      "\ubc18\ubcf5\ubb38 for\ubb38\uc744 \ud1b5\ud574 1\ubd80\ud130 n+1\uae4c\uc9c0\uc758 \ubc94\uc704\ub97c \ud558\ub294\uac83\uc740 1\ub354 \uc791\uac8c \uc785\ub825\ub418\uae30\ub54c\ubb38\uc5d0 \uc785\ub2c8\ub2e4\n",
      "\uadf8\ub807\uac8c num\uc744 for\ubb38\uc774 \ub3cc\ub54c\ub9c8\ub2e4 0\uc73c\ub85c \ucd08\uae30\ud654 \ud574\uc8fc\uace0 \n",
      "\ub2e4\uc2dc y for\ubb38\uc744 \ub3cc\ub824 1\ubd80\ud130 x+1\uae4c\uc9c0\uc758 \uac12\uc744 \ub3cc\ub9ac\uace0 \uc870\uac74\ubb38\uc744 \ud1b5\ud574 x\ub97c y\ub85c \ub098\ub208 \uac12\uc774 0\uc774\ub418\uba74\n",
      "num\uc5d0 \uac2f\uc218\ub97c \uc99d\uac00\uc2dc\ucf1c \uc18c\uc218\ub294 2\uac1c\uc758 \uc57d\uc218\ub97c \uac00\uc9c0\ubbc0\ub85c num\uc758 \uac12\uc774 2\uac1c\uba74 \n",
      "\ucd9c\ub825\ud574 \uc8fc\ub3c4\ub85d \ud588\uc2b5\ub2c8\ub2e4."
     ]
    },
    {
     "cell_type": "markdown",
     "metadata": {},
     "source": [
      "\uc774\ubc88 \uacfc\uc81c\ub97c \ud1b5\ud574 \uc544\uc774\ud30c\uc774\uc120 \ub178\ud2b8\uc0ac\uc6a9\ubc95\uc744 \uc815\ud655\ud788 \uc54c\uc218 \uc788\uc5c8\uace0 \uadf8\uac04 \ubc30\uc6e0\ub358\uac83\uc744 \n",
      "\ub2e4\uc2dc\ud55c\ubc88 \ub418\uc9d1\uc744 \uc218\uc788\uc5b4\uc11c \uc88b\uc558\uc2b5\ub2c8\ub2e4."
     ]
    },
    {
     "cell_type": "code",
     "collapsed": false,
     "input": [],
     "language": "python",
     "metadata": {},
     "outputs": []
    }
   ],
   "metadata": {}
  }
 ]
}